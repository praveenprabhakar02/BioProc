{
 "cells": [
  {
   "cell_type": "markdown",
   "metadata": {},
   "source": [
    "# <center>Using Optimization in 'Machine Learning for Optimal Feedback Control'</center>\n",
    "\n",
    "<center>by Praveen Prabhakar KR</center>"
   ]
  },
  {
   "cell_type": "markdown",
   "metadata": {},
   "source": [
    "---\n",
    "# Optimization methods\n",
    "\n",
    "Humans have a complex body with numerous degrees of freedom to perform a task. Such redundancy affords flexible and adaptable motor behavior, provided all degrees of freedom can be coordinated to contribute to task performance. Understanding coordination has remained a central problem in motor control for a long time. Optimal feedback control is the current front-running theory for motor coordination. Optimal feedback control provides a link between the different levels of motor control. The motor system approximates the best possible control scheme for a given task - which is in the form of a feedback control law. An optimal feedback controller uses an optimal estimate of the state of the system, generated through sensory feedback and efferent copy, and uses this feedback to adjust its output towards a specific goal. Errors are corrected only if they adversely affect motor performance. \n",
    "\n",
    "The KINARM End-Point, used in my lab, is capable of monitoring bimanual movement in a 2-dimensional space. It can collect trajectory and force data from bimanual movement by providing a visual input to the participant for reaching. The collected data can be used to map the trajectory of the reaching task. Optimal feedback control uses the cost function J in order to determine the motor command u. The cost function which determines the control policy for the motor command is determined by the previous motor commands and goal of the movement. My goal is to model the cost function which when done successfully will be able to predict the trajectory for any participant. \n",
    "\n",
    "Numerous reaching trials data will be collected. Input and output are known from the trial data. This makes it possible to use machine learning algorithms in order to predict the parameter for that particular person. Since finding the range of the parameter can be an computation intensive task, I plan on using optimization to approximate the value of the parameter that is closest to predicting the output. The parameter with the best fit will be the solution. I plan to use gradient descent, Monte Carlo in order to determine the parameter value. I might also use optimization libraries like scipy.optimize depending on what might be the best fit for my project needs. \n",
    "\n",
    "\n",
    "\n",
    "<img src=\"https://www.ncbi.nlm.nih.gov/pmc/articles/PMC4350769/bin/nihms663707f5.jpg\" width=\"50%\">\n",
    "<p style=\"text-align: right;\">Image from: https://www.ncbi.nlm.nih.gov/pmc/articles/PMC4350769/</p>\n",
    "\n",
    "\n",
    "Optimization has not been used a lot in my area of research. The reason, I believe, is that studies have not used machine learning or computational methods to link optimal feedback control as a theory and kinetics and kinematics data and estimate output. "
   ]
  },
  {
   "cell_type": "markdown",
   "metadata": {},
   "source": [
    "---\n",
    "# References\n",
    "\n",
    "Todorov, E., & Jordan, M. I. (2002). Optimal feedback control as a theory of motor coordination. Nature Neuroscience, 5(11), 1226–1235. https://doi.org/10.1038/nn963\n",
    "\n",
    "Franklin, D. W., & Wolpert, D. M. (2011). Computational Mechanisms of Sensorimotor Control. Neuron, 72(3), 425–442. https://doi.org/10.1016/j.neuron.2011.10.006\n",
    "\n",
    "Optimal feedback control and the neural basis of volitional motor control | Nature Reviews Neuroscience. (n.d.). Retrieved 24 January 2020, from https://www.nature.com/articles/nrn1427\n",
    "\n",
    "Diedrichsen, J., Shadmehr, R., & Ivry, R. B. (2010). The coordination of movement: Optimal feedback control and beyond. Trends in Cognitive Sciences, 14(1), 31–39. https://doi.org/10.1016/j.tics.2009.11.004\n"
   ]
  }
 ],
 "metadata": {
  "anaconda-cloud": {},
  "kernelspec": {
   "display_name": "Python 3",
   "language": "python",
   "name": "python3"
  },
  "language_info": {
   "codemirror_mode": {
    "name": "ipython",
    "version": 3
   },
   "file_extension": ".py",
   "mimetype": "text/x-python",
   "name": "python",
   "nbconvert_exporter": "python",
   "pygments_lexer": "ipython3",
   "version": "3.7.1"
  }
 },
 "nbformat": 4,
 "nbformat_minor": 4
}
