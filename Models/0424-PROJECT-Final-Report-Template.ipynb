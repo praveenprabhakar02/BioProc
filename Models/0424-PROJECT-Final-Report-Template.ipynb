{
 "cells": [
  {
   "cell_type": "markdown",
   "metadata": {},
   "source": [
    "# <center> BioProc </center>\n",
    "\n",
    "<center>By Praveen Prabhakar KR</center>"
   ]
  },
  {
   "cell_type": "markdown",
   "metadata": {},
   "source": [
    "<center>\n",
    "<img src=\"https://3.bp.blogspot.com/-oEyauyT-8lU/WMWRJlwZKcI/AAAAAAAADxI/FL9sVM010yUIEbtz9nvbCnCYkerHt7NnwCLcB/s1600/L_deltoid.pngJ\" width=\"50%\">\n",
    "<p style=\"text-align: right;\">Image from: http://buildandcrash.blogspot.com/2017/03/emg-chase-game.html</p>\n",
    "</center>\n",
    "\n"
   ]
  },
  {
   "cell_type": "markdown",
   "metadata": {},
   "source": [
    "---\n",
    "# Authors\n",
    "\n",
    "#### Praveen Prabhakar Krishnan Ramaraj \n",
    "Graduate Student, Department of Kinesiology, College of Education, Michigan State University."
   ]
  },
  {
   "cell_type": "markdown",
   "metadata": {},
   "source": [
    "---\n",
    "# Abstract\n",
    "\n",
    "Signal processing is a popular field with a high number of processing techniques available. While a lot of signal processing libraries are available, very few exist for biological signals. Biological signals from humans like EMG, ECG, EEG are vulnerable to complications like presence of high amount of noise, crosstalk, etc. It is also extremely complex to record data from individual units (like individual motor units, specific parts of the brain, etc.) due to the complexity and ethics surrounding human research subjects. Hence, it becomes extremely important to process the signals that we can collect easily on the surface like EMG, ECG, EEG the best way possible  and apply optimal computational methods in order to infer more from the signals. BioProc is a package based in Python written specifically for EMG, ECG and EEG signals and contains signal processing functions specific to these signals. Future plan to use Machine Learning (Artificial Neural Networks) to classify these signals can be highly useful in early diagnosis of diseases - EMG (healthy, myopathy, neuropathy), ECG (healthy, arrhythmia, ischemia), EEG (healthy, conditions like Parkinson's, Alzheimer's disease). \n",
    "\n"
   ]
  },
  {
   "cell_type": "markdown",
   "metadata": {},
   "source": [
    "----\n",
    "# Statement of Need\n",
    "\n",
    "MATLAB is a very popular tool used by numerous researchers working with biological signals like EMG, ECG, EEG. MATLAB has dedicated feature extraction toolboxes for these signals. Python, despite being one of the most popular languages currently, does not have a dedicated library to process these signals. Since usage of Python for Machine Learning and usage of Machine Learning to classify these biological signals is increasing regularly, a dedicated package for EMG, ECG, EEG processing becomes essential. \n",
    "\n",
    "In the Motor Neuroscience Lab in the Department of Kinesiology, we study bimanual movement using a KINARM robot, EMG and EEG. This package will definitely increase the ease in processing these signals. I also plan on using signal classification in order to classify between healthy and diseased population."
   ]
  },
  {
   "cell_type": "markdown",
   "metadata": {},
   "source": [
    "----\n",
    "# Installation instructions \n",
    "\n",
    "1. Use the 'environment.yml' to set up the environment for the package. \n",
    "2. Visit 'docs --> bioproc' for documentation. The functions under each module are listed in the documentation.\n",
    "3. 'README.MD' contains few examples from the library for reference. \n",
    "4. 'Example.ipynb' can be used to work using the package (after completion of library, pip install can be used)."
   ]
  },
  {
   "cell_type": "markdown",
   "metadata": {},
   "source": [
    "----\n",
    "# Unit Tests\n",
    "\n",
    "Tests are available under 'bioproc --> tests'. Tests can be run using 'pytest' or the next cell."
   ]
  },
  {
   "cell_type": "code",
   "execution_count": null,
   "metadata": {},
   "outputs": [],
   "source": [
    "!pytest -v ../bioproc"
   ]
  },
  {
   "cell_type": "code",
   "execution_count": null,
   "metadata": {},
   "outputs": [],
   "source": [
    "!pylint ../bioproc"
   ]
  },
  {
   "cell_type": "markdown",
   "metadata": {},
   "source": [
    "----\n",
    "# Example usage\n",
    "\n",
    "Examples are available in the 'Example.ipynb' notebook."
   ]
  },
  {
   "cell_type": "markdown",
   "metadata": {},
   "source": [
    "---\n",
    "# Methodology\n",
    "\n",
    "My initial proposal was to model 'Optimal Feedback Control' and use Machine Learning to predict movement. Due to the complexity of the project, I changed my project to 'BioProc'. My initial plan was to write processing for EMG, ECG and EEG and then write the Neural Networks code using TensorFlow. I definitely did not expect writing a library to be this time consuming. So, I restricted my project to be completed for EMG as that is my urgent research based need. The common signal processing functions for all signals and functions specific to EMG have been completed. I plan to continue the Machine Learning part over the summer and publish it as a library."
   ]
  },
  {
   "cell_type": "markdown",
   "metadata": {},
   "source": [
    "---\n",
    "# Concluding Remarks\n",
    "\n",
    "As mentioned in the methodology, my future work would be to include processing elements specific to ECG & EEG and use ANN to classify the signals."
   ]
  },
  {
   "cell_type": "markdown",
   "metadata": {},
   "source": [
    "----\n",
    "# References\n",
    "\n",
    "Repository can be found at - https://gitlab.msu.edu/praveenp/bioproc\n",
    "\n",
    "1. Carreiras C, Alves AP, Lourenço A, Canento F, Silva H, Fred A, et al. BioSPPy - Biosignal Processing in Python, 2015-, https://github.com/PIA-Group/BioSPPy/ [Online; accessed 2020-04-06.\n",
    "\n",
    "2. Www1.udel.edu. 2020. [online] Available at: <https://www1.udel.edu/biology/rosewc/kaap686/notes/EMG%20analysis.pdf> [Accessed 25 April 2020].\n",
    "\n",
    "3. Micera, S., Sabatini, A. M., Dario, P., & Rossi, B. (1999). A hybrid approach to EMG pattern analysis for classification of arm movements using statistical and fuzzy techniques. Medical Engineering & Physics, 21(5), 303–311. https://doi.org/10.1016/S1350-4533(99)00055-7\n",
    "\n",
    "4. Pattichis, C. S., Schizas, C. N., & Middleton, L. T. (1995). Neural network models in EMG diagnosis. IEEE Transactions on Biomedical Engineering, 42(5), 486–496. https://doi.org/10.1109/10.376153\n",
    "\n",
    "5. Abel, E. W., Zacharia, P. C., Forster, A., & Farrow, T. L. (1996). Neural network analysis of the EMG interference pattern. Medical Engineering & Physics, 18(1), 12–17. https://doi.org/10.1016/1350-4533(95)00032-1"
   ]
  }
 ],
 "metadata": {
  "anaconda-cloud": {},
  "kernelspec": {
   "display_name": "Python 3",
   "language": "python",
   "name": "python3"
  },
  "language_info": {
   "codemirror_mode": {
    "name": "ipython",
    "version": 3
   },
   "file_extension": ".py",
   "mimetype": "text/x-python",
   "name": "python",
   "nbconvert_exporter": "python",
   "pygments_lexer": "ipython3",
   "version": "3.7.4"
  }
 },
 "nbformat": 4,
 "nbformat_minor": 4
}
