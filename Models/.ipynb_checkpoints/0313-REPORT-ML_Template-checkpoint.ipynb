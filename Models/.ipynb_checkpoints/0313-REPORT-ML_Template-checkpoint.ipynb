{
 "cells": [
  {
   "cell_type": "markdown",
   "metadata": {},
   "source": [
    "# <center>Using Machine Learning (ML) in Bioproc</center>\n",
    "\n",
    "<center>by Praveen Prabhakar KR</center>"
   ]
  },
  {
   "cell_type": "markdown",
   "metadata": {},
   "source": [
    "---\n",
    "\n",
    "The ability of humans to measure electrophysiological data has helped us in diagnosing conditions earlier and treating them better. My project is to develop a library that will be able process signals from EMG, ECG and EEG. \n",
    "\n",
    "\n",
    "#### EMG:\n",
    "\n",
    "EMG signals have been used for diagnosis of numerous neuromuscular conditions (2-4) like muscular dystrophy, ALS, Parkinson's disease. While EMG results may not be the only conclusive evidence from which the above conditions can be diagnosed, it is used as a very important tool in early detection (1). EMG signal characterization is crucial in diagnosing these neuromuscular conditions and machine learning classification algorithms can be a crucial tool in doing that. Using supervised learning methods, I plan on tranining using labelled clinical EMG data. Research for classifying EMG signals using ANN and SVM has shown to have a 95% accuracy in detecting dystrophy (5). I plan on using ANN for the classification.\n",
    "\n",
    "<img src=\"http://biomedpharmajournal.org/wp-content/uploads/2018/09/Vol11No3_Sig_Vik_fig6.jpg\" width=\"30%\">\n",
    "<p style=\"text-align: right;\">Image from: http://biomedpharmajournal.org/vol11no3/emg-signal-analysis-for-diagnosis-of-muscular-dystrophy-using-wavelet-transform-svm-and-ann/</p>\n",
    "\n",
    "<br>\n",
    "\n",
    "#### ECG:\n",
    "\n",
    "Cardiac disease is the highest cause of death globally. 17.9 million people die every year from cardiovascular disease which is an estimated 31% of all deaths worldwide. One person dies every 37 seconds in the US (6). Detecting arrhythmia using ECG has becoming crucial in treating heart disease. This has led to a boom in smart watches industry as people now make an effort to live a healthy lifestyle and constantly monitor their heart activity. ECG analysis and detection of abnormalities by machine learning is currently a leading area of research. Classifiers are now being developed which can classify based on just one single ECG lead compared to the 12 lead ECG used in hospitals (8). Deep Neural Networks are becoming increasingly popular for this particular problem and recently single lead ambulatory ECGs' algorithm using DNN was found to be more accurate than cardiologists (higher F1 score) (7). I plan to use Neural Networks (of a simpler scale) to classify and detect arrhythmia. The availability of huge amount of ECG data will help in training.\n",
    "\n",
    "\n",
    "<img src=\"https://stanfordmlgroup.github.io/projects/ecg2/img/confusion_dnn.png\" width=\"30%\">\n",
    "<p style=\"text-align: right;\">Image from: https://stanfordmlgroup.github.io/projects/ecg2/ </p>\n",
    "\n",
    "<br>\n",
    "\n",
    "#### EEG:\n",
    "\n",
    "EEG detects electrical activity in the brain. EEG can help diagnose disorders like a stroke, sleep disorders, epilepsy, etc. They are also very useful for EEG based brain-computer interface (9). Recently, emotional classification from EEG data using machine learning has attracted a lot of attention (10). Among the three electrophysiological data in the library bioproc, EEG is the most complex to understand. EEG data measured from the scalp contains a lot of noise and has poor spatial precision. It also has a limited ability to accurately recrd from structures deeper than the cortex unless it is an EEG implant. I do not plan on using ML for EEG data in my project.\n"
   ]
  },
  {
   "cell_type": "markdown",
   "metadata": {},
   "source": [
    "---\n",
    "# References\n",
    "\n",
    "1. Yousefi, J., & Hamilton-Wright, A. (2014). Characterizing EMG data using machine-learning tools. Computers in Biology and Medicine, 51, 1–13. https://doi.org/10.1016/j.compbiomed.2014.04.018\n",
    "\n",
    "2. Zarzur, A. P., de Campos Duprat, A., Cataldo, B. O., Ciampi, D., & Fonoff, E. (2014). Laryngeal electromyography as a diagnostic tool for Parkinson’s disease: Laryngeal EMG and Parkinson’s Disease. The Laryngoscope, 124(3), 725–729. https://doi.org/10.1002/lary.24379\n",
    "\n",
    "3. de Carvalho, M., Dengler, R., Eisen, A., England, J. D., Kaji, R., Kimura, J., Mills, K., Mitsumoto, H., Nodera, H., Shefner, J., & Swash, M. (2008). Electrodiagnostic criteria for diagnosis of ALS. Clinical Neurophysiology, 119(3), 497–503. https://doi.org/10.1016/j.clinph.2007.09.143\n",
    "\n",
    "4. Hilton-Brown, P., & Stålberg, E. (1983). Motor unit size in muscular dystrophy, a macro EMG and scanning EMG study. Journal of Neurology, Neurosurgery & Psychiatry, 46(11), 996–1005. https://doi.org/10.1136/jnnp.46.11.996\n",
    "\n",
    "5. Kehri, V., & Awale, R. (2018). EMG Signal Analysis for Diagnosis of Muscular Dystrophy Using Wavelet Transform, SVM and ANN. Biomedical and Pharmacology Journal, 11, 1583–1591. https://doi.org/10.13005/bpj/1525\n",
    "\n",
    "\n",
    "6. CDC. (2019, December 2). Heart Disease Facts | cdc.gov. Centers for Disease Control and Prevention. https://www.cdc.gov/heartdisease/facts.htm\n",
    "\n",
    "\n",
    "7. Hannun, A. Y., Rajpurkar, P., Haghpanahi, M., Tison, G. H., Bourn, C., Turakhia, M. P., & Ng, A. Y. (2019). Cardiologist-level arrhythmia detection and classification in ambulatory electrocardiograms using a deep neural network. Nature Medicine, 25(1), 65–69. https://doi.org/10.1038/s41591-018-0268-3\n",
    "\n",
    "8. Alfaras, M., Soriano, M. C., & Ortín, S. (2019). A Fast Machine Learning Model for ECG-Based Heartbeat Classification and Arrhythmia Detection. Frontiers in Physics, 7. https://doi.org/10.3389/fphy.2019.00103\n",
    "\n",
    "9. Müller, K.-R., Tangermann, M., Dornhege, G., Krauledat, M., Curio, G., & Blankertz, B. (2008). Machine learning for real-time single-trial EEG-analysis: From brain–computer interfacing to mental state monitoring. Journal of Neuroscience Methods, 167(1), 82–90. https://doi.org/10.1016/j.jneumeth.2007.09.022\n",
    "\n",
    "10. Wang, X.-W., Nie, D., & Lu, B.-L. (2014). Emotional state classification from EEG data using machine learning approach. Neurocomputing, 129, 94–106. https://doi.org/10.1016/j.neucom.2013.06.046\n",
    "\n",
    "\n"
   ]
  }
 ],
 "metadata": {
  "anaconda-cloud": {},
  "kernelspec": {
   "display_name": "Python 3",
   "language": "python",
   "name": "python3"
  },
  "language_info": {
   "codemirror_mode": {
    "name": "ipython",
    "version": 3
   },
   "file_extension": ".py",
   "mimetype": "text/x-python",
   "name": "python",
   "nbconvert_exporter": "python",
   "pygments_lexer": "ipython3",
   "version": "3.7.4"
  }
 },
 "nbformat": 4,
 "nbformat_minor": 4
}
