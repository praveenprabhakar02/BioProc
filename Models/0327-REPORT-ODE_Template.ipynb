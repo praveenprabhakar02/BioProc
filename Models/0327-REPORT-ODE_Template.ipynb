{
 "cells": [
  {
   "cell_type": "markdown",
   "metadata": {},
   "source": [
    "# <center>Using Ordinary Differential Equations (ODEs) in bioproc</center>\n",
    "\n",
    "<center>by Praveen Prabhakar KR</center>"
   ]
  },
  {
   "cell_type": "markdown",
   "metadata": {},
   "source": [
    "---\n",
    "## Sliding Filament Theory:\n",
    "\n",
    "<img src=\"https://upload.wikimedia.org/wikipedia/commons/thumb/6/6e/Sarcomere.svg/1280px-Sarcomere.svg.png\" width=40%>\n",
    "<p style=\"text-align: right;\">Image from: <a href = \"https://en.wikipedia.org/wiki/Cross-bridge_cycle\">https://en.wikipedia.org/wiki/Cross-bridge_cycle</a></p>\n",
    "<br>\n",
    "\n",
    "Sliding filament theory is the universally accepted explanation for muscle contraction [4]. According to the sliding filament theory, myosin (thick) filaments of muscle fibers slide past the actin (thin) filaments. The actin and myosin filaments form a cross bridge as shown in the image. The myosin bonding sites in actin are blocked by tropomyosin. Tropomyosin is activated by troponin. Calcium ions from the sarcoplasmic reticulum bind to troponin, which allows tropomyosin to move away from the binding site. This allows for the myosin head to form a cross-bridge with actin and bend in order to contract the muscles. The myosin head needs ATP to recock the head and bond with actin again to repeat the process.\n",
    "\n",
    "<br> <br>\n",
    "\n",
    "<img src=\"https://s3-us-west-2.amazonaws.com/courses-images/wp-content/uploads/sites/1223/2017/02/08003712/Figure_38_04_05.png\" width=35%>\n",
    "\n",
    "<br> <br>\n",
    "\n",
    "Calcium is an integral part of the sliding filament theory. Amount of calcium is related to the amount of contraction and hence the force produced by muscles. ODEs have been used to model Calcium uptake and retake by the SR (sarcoplasmic reticulum) and also binding and unbinding to troponin [1]. This in turn can used to model the force and force frequency produced by muscles [3].\n",
    "\n",
    "<br> <br>\n",
    "\n",
    "<img src=\"https://ieeexplore-ieee-org.proxy2.cl.msu.edu/mediastore_new/IEEE/content/media/8471725/8512178/8512946/hmed3-16501103-large.gif\" width=60%>\n",
    "<p style=\"text-align: right;\">Image from: <a href = \"https://ieeexplore-ieee-org.proxy2.cl.msu.edu/mediastore_new/IEEE/content/media/8471725/8512178/8512946/hmed3-16501103-large.gif\">https://ieeexplore-ieee-org.proxy2.cl.msu.edu/mediastore_new/IEEE/content/media/8471725/8512178/8512946/hmed3-16501103-large.gif</a></p>\n",
    "<br> <br>\n",
    "\n",
    "The work by Ding et. all [1] lead the way to a new mathematical model predicting the force-amplitude relationship of human skeletal muscle [2]. While this is an upcoming field in modelling muscles, I do not plan on using this for my project as I am woking on a library to process EMG signals. Also ODEs would be a very useful tool in modelling for Exercise Physiologists. "
   ]
  },
  {
   "cell_type": "markdown",
   "metadata": {},
   "source": [
    "---\n",
    "# References\n",
    "\n",
    "1. A mathematical model that predicts skeletal muscle force—IEEE Journals & Magazine. (n.d.). Retrieved 27 March 2020, from https://ieeexplore-ieee-org.proxy2.cl.msu.edu/document/568909\n",
    "\n",
    "2. A New Mathematical Force Model that Predicts the Force-pulse Amplitude Relationship of Human Skeletal Muscle—IEEE Conference Publication. (n.d.). Retrieved 27 March 2020, from https://ieeexplore-ieee-org.proxy2.cl.msu.edu/document/8512946\n",
    "\n",
    "3. A mathematical model that predicts the force–frequency relationship of human skeletal muscle—Ding—2002—Muscle &amp; Nerve—Wiley Online Library. (n.d.). Retrieved 27 March 2020, from https://onlinelibrary-wiley-com.proxy2.cl.msu.edu/doi/full/10.1002/mus.10198\n",
    "\n",
    "4. Cross-bridge cycle—Wikipedia. (n.d.). Retrieved 27 March 2020, from https://en.wikipedia.org/wiki/Cross-bridge_cycle\n"
   ]
  }
 ],
 "metadata": {
  "anaconda-cloud": {},
  "kernelspec": {
   "display_name": "Python 3",
   "language": "python",
   "name": "python3"
  },
  "language_info": {
   "codemirror_mode": {
    "name": "ipython",
    "version": 3
   },
   "file_extension": ".py",
   "mimetype": "text/x-python",
   "name": "python",
   "nbconvert_exporter": "python",
   "pygments_lexer": "ipython3",
   "version": "3.7.4"
  }
 },
 "nbformat": 4,
 "nbformat_minor": 4
}
