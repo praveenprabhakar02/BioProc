{
 "cells": [
  {
   "cell_type": "markdown",
   "metadata": {},
   "source": [
    "# <center>Using Graph Theory in ML for Optimal Feedback Control</center>\n",
    "\n",
    "<center>by Praveen Prabhakar KR</center>"
   ]
  },
  {
   "cell_type": "markdown",
   "metadata": {},
   "source": [
    "# Graph Theory in Cognitive & Motor Neuroscience\n",
    "\n",
    "Graph theory is used to model pairwise relations between objects. In functional neuroscience, graph theory is incredibly popular in order to model relationships between different parts of the brain(1). Various activities emerge from interactions across distributed functional networks in the brain. Graph theory enhances our ability to make inferences from functional MRI, electroencephalography and magnetoencephalography data.\n",
    "\n",
    "The graph theory has been recognized in recent years as a novel method to study functional networks of the brain (2). Anatomical brain regions are represented as nodes and functional connectivity between these nodes are defined. \n",
    "\n",
    "<img src=\"https://www.frontiersin.org/files/Articles/374868/fnins-12-00861-HTML/image_m/fnins-12-00861-g001.jpg\" width=\"50%\">\n",
    "<p style=\"text-align: right;\">Image from: https://www.frontiersin.org/articles/10.3389/fnins.2018.00861/full#B57</p>\n",
    "\n",
    "\n",
    "<br>\n",
    "In bimanual coordination, studies have employed graph theory analysis to correlate movement and functional networks involved. For example, studies have revealed the elderly have additional activation in secondary network of brain areas to master task performance (3). Graph-theoretical network analysis (GTNA) was used to model fMRI data in participants using a bimanual coordination task including in-phase and anti-phase flexion/extension wrist movements. The elderly matched the motor performance of the young but showed an increased functional connectivity in both networks across a wide range of connectivity metrics. More difficult movements showed an increased connectivity in both groups. Graph theory is very instrumental in understanding this functional connectivity. Examples are provided below.\n",
    "\n",
    "<br><br> <center>\n",
    "<img src=\"https://journals.plos.org/plosone/article/figure/image?size=large&id=10.1371/journal.pone.0062133.g002\" width=\"30%\">\n",
    "<p style=\"text-align: right;\">Image from: https://journals.plos.org/plosone/article?id=10.1371/journal.pone.0062133</p> </center>\n",
    "\n",
    "<br><br><center>\n",
    "<img src=\"https://journals.plos.org/plosone/article/figure/image?size=large&id=10.1371/journal.pone.0210015.g002\" width=\"50%\">\n",
    "<p style=\"text-align: right;\">Image from: https://journals.plos.org/plosone/article?id=10.1371/journal.pone.0210015</p> </center>\n",
    "\n",
    "</center>\n",
    "<br><br>\n",
    "\n",
    "Graph theory is a very useful tool to connect data and results with functional networks in the brain. But I will not be using graph theory in my project as I do not plan on venturing into the functional components of the brain. Another drawback is that fMRI data is needed in order to connect bimanual movement and their functional components using graph theory. Unfortunately, my lab does not have access to fMRI data and so I do not plan on using it for my project. In the future, I believe it can be a good extension to my current project. "
   ]
  },
  {
   "cell_type": "markdown",
   "metadata": {},
   "source": [
    "---\n",
    "# References\n",
    "\n",
    "1. Minati, L., Varotto, G., D’Incerti, L., Panzica, F., & Chan, D. (2013). From brain topography to brain topology: Relevance of graph theory to functional neuroscience. NeuroReport, 24(10), 536–543. https://doi.org/10.1097/WNR.0b013e3283621234\n",
    "  \n",
    "2. Frontiers | Evaluation of Changes in the Motor Network Following BCI Therapy Based on Graph Theory Analysis | Neuroscience. (n.d.). Retrieved 7 February 2020, from https://www.frontiersin.org/articles/10.3389/fnins.2018.00861/full\n",
    "\n",
    "3. Heitger, M. H., Goble, D. J., Dhollander, T., Dupont, P., Caeyenberghs, K., Leemans, A., Sunaert, S., & Swinnen, S. P. (2013). Bimanual Motor Coordination in Older Adults Is Associated with Increased Functional Brain Connectivity – A Graph-Theoretical Analysis. PLOS ONE, 8(4), e62133. https://doi.org/10.1371/journal.pone.0062133\n",
    "\n",
    "4. Pi, Y.-L., Wu, X.-H., Wang, F.-J., Liu, K., Wu, Y., Zhu, H., & Zhang, J. (2019). Motor skill learning induces brain network plasticity: A diffusion-tensor imaging study. PLOS ONE, 14(2), e0210015. https://doi.org/10.1371/journal.pone.0210015\n"
   ]
  }
 ],
 "metadata": {
  "anaconda-cloud": {},
  "kernelspec": {
   "display_name": "Python 3",
   "language": "python",
   "name": "python3"
  },
  "language_info": {
   "codemirror_mode": {
    "name": "ipython",
    "version": 3
   },
   "file_extension": ".py",
   "mimetype": "text/x-python",
   "name": "python",
   "nbconvert_exporter": "python",
   "pygments_lexer": "ipython3",
   "version": "3.7.4"
  }
 },
 "nbformat": 4,
 "nbformat_minor": 4
}
