{
 "cells": [
  {
   "cell_type": "markdown",
   "metadata": {},
   "source": [
    "# <center>Using Agent Based Models in ML for Optimal Feedback Control</center>\n",
    "\n",
    "<center>by Praveen Prabhakar KR</center>"
   ]
  },
  {
   "cell_type": "markdown",
   "metadata": {},
   "source": [
    "---\n",
    "# Instructions\n",
    "\n",
    "An agent-basd model (ABM) is a class of computational model for simulating the actions and interactions of autonomous agents and assessing their effects on the system as a whole. In neuroscience, it is now proposed as a way with huge potential. With ABM, complex theories about processes can be simulated to carry out experiments and observe the occurrence of emergence by manipulating different types of neurons within different states to operate within the same time (3). One key advantage and drawback with using ABM in Neuroscience is the complexity of the brain and its cortices. The cortical areas of the brain is sub-divided into numerous regions. Numerous parts of the brain are involved in a simple action like moving a finger. Hence, it becomes increasingly complex to exactly model a particular action at a neuronal level like McChulloch-Pitts model (4). While, this is the drawback, the advantage is if modelled with such detail, these models can certainly help in understanding the function of the brain and how changing and manipulating one part can influence a certain function.\n",
    "<br><br>\n",
    "\n",
    "<center><img src=\"https://www.jneurosci.org/content/jneuro/37/12/3413/F4.large.jpg?width=800&height=600&carousel=1\" width=\"50%\">\n",
    "<p style=\"text-align: right;\">Image from: <a href = \"https://www.jneurosci.org/content/37/12/3413\">https://www.jneurosci.org/content/37/12/3413</a></p>\n",
    "    \n",
    "A neuronal model (5). A stimulus x is presented; information about this stimulus is encoded by the firing rates R of cells in a neural population, which in turn drive a motor command . D is the target tuning matrix, and B is the motor weighting matrix </center>\n",
    "\n",
    "<br><br>\n",
    "For example, Joyce et. all, applied the agent-based modeling framework to functional brain imaging data (1). Agents were defined by network nodes and represent brain regions, and links representing functional connectivity between nodes dictate which agents interact. A link between two regions may be positive or negative, depending on the correlation in functional activity between the two regions. Agents are either active or inactive, and systematically update based on the activity of their immediate neighbors. Their dynamics are observed over a certain time period starting from predetermined initial configurations. The system is capable of solving well-described test problems, such as the density classification and synchronization problems.\n",
    "\n",
    "While a lot of models exist of neurons and numerous researchers are working on developing models of the brain, I will not be using it for my project (atleast currently). The reason for this is that I am working on kinetic data of bimanual movement. While modelling different parts of the brain will give more depth and understanding of the effects that we observe in my research, it is currently beyond the scope of it. Building models of the brain in order to understand bimanual movement will require complex understanding of the functional structure of the brain. In the future, it might be one of the avenues I might venture if my current project turns out successfully. "
   ]
  },
  {
   "cell_type": "markdown",
   "metadata": {},
   "source": [
    "---\n",
    "# References\n",
    "\n",
    "1. Complexity in a brain-inspired agent-based model—ScienceDirect. (n.d.). Retrieved 21 February 2020, from https://www-sciencedirect-com.proxy2.cl.msu.edu/science/article/pii/S0893608012001578?via%3Dihub#f000005\n",
    "\n",
    "2. Agent-based modeling: Methods and techniques for simulating human systems | PNAS. (n.d.). Retrieved 21 February 2020, from https://www.pnas.org/content/99/suppl_3/7280.full\n",
    "\n",
    "3. Beyond neuronal networks: How to use agent-based modelling in neu- roscience | Request PDF. (n.d.). Retrieved 21 February 2020, from https://www.researchgate.net/publication/310605390_Beyond_neuronal_networks_How_to_use_agent-based_modelling_in_neu-_roscience\n",
    "\n",
    "4. An agent-based approach to multi-scale neuronal network simulations using modified McCulloch-Pitts neurons | BMC Neuroscience | Full Text. (n.d.). Retrieved 21 February 2020, from https://bmcneurosci.biomedcentral.com/articles/10.1186/1471-2202-13-S1-P135\n",
    "\n",
    "5. Neural Representation and Causal Models in Motor Cortex | Journal of Neuroscience. (n.d.). Retrieved 22 February 2020, from https://www.jneurosci.org/content/37/12/3413\n"
   ]
  }
 ],
 "metadata": {
  "anaconda-cloud": {},
  "kernelspec": {
   "display_name": "Python 3",
   "language": "python",
   "name": "python3"
  },
  "language_info": {
   "codemirror_mode": {
    "name": "ipython",
    "version": 3
   },
   "file_extension": ".py",
   "mimetype": "text/x-python",
   "name": "python",
   "nbconvert_exporter": "python",
   "pygments_lexer": "ipython3",
   "version": "3.7.4"
  }
 },
 "nbformat": 4,
 "nbformat_minor": 4
}
