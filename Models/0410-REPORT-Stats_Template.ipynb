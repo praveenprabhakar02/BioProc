{
 "cells": [
  {
   "cell_type": "markdown",
   "metadata": {},
   "source": [
    "# <center>Using Statistical Models in Bioproc</center>\n",
    "\n",
    "<center>by Praveen Prabhakar KR</center>"
   ]
  },
  {
   "cell_type": "markdown",
   "metadata": {},
   "source": [
    "---\n",
    "# EMG:\n",
    "\n",
    "In the recent past, the electromyographic (EMG) signal has been widely used, both in clinical practice and in the rehabilitation field. EMG pattern analysis may provide better insight into the muscle recruitment strategic implemented by the Central Nervous System (CNS) for motor control, and offers a valuable tool for accurate diagnosis of neuromuscular disorders [2]. Also, many have proposed that the EMG signal can be used to provide control commands for limb prostheses, Functional Electrical Stimulation (FES) devices and advanced man-machine interfaces. Statistical techniques, such as the Generalized Likelihood Ratio test (GLRT), the Principal Component Analysis (PCA), autoregressive parametric modeling techniques and cepstral analysis techniques are used to construct low-dimensional feature spaces with high classification rates [1]. \n",
    "\n",
    "Micera et. al conducted a study where the subjects were asked to perform three different planar arm pointing movements to reach and grasp an object lying on the table.\n",
    "\n",
    "<br> <center><img src=\"https://ars.els-cdn.com/content/image/1-s2.0-S1350453399000557-gr3.gif\"> </center> <br>\n",
    "\n",
    "Seven proximal muscles were selected and their EMG signals acquire. The hybrid system presented in this paper permits the identification of movements of the upper limb by processing and classifying the EMG signals of shoulder muscles using different techniques such as PCA, GLRT [1]. \n",
    "\n",
    "# ECG:\n",
    "\n",
    "Cardiovascular diseases are the leading cause of death in the US. Integrating statistical methods with artificial intelligence for classification of ECG data can be of utmost use in detecting cardiac conditions and treating early [4]. \n",
    "\n",
    "<br> <center> <img src=\"https://ieeexplore-ieee-org.proxy2.cl.msu.edu/mediastore_new/IEEE/content/media/19/20126/930458/930458-fig-3-source-small.gif\"> </center> <br>\n",
    "\n",
    "Biel et.all processed information in the measured heart signal is processed in three steps: 1. the ECG equipment; 2. feature selection; 3. soft independent modeling of class analogy (SIMCA). Classification is made, in the third step, using SIMCA. In order to use the SIMCA classifier for identification of a particular subject, the model has to be taught the specific features of the subject [6]. This is accomplished by presenting a set of measurements for each subject to the classifier. Based on these data sets, a statistical model for each person is constructed. Thus a group of statistical models is built and stored.\n",
    "\n",
    "While statistical models are helpful along with artificial intelligence, they cannot be used separately due to their high sensitivity to noise and their failure to deal with new or ambiguous patterns [5]. ANNs (Artificial Neural Networks) are considered better tools for classification of these signals. I do not plan on using statistical methods for classifying data in my project."
   ]
  },
  {
   "cell_type": "markdown",
   "metadata": {},
   "source": [
    "---\n",
    "# References\n",
    "\n",
    "1. Micera, S., Sabatini, A. M., Dario, P., & Rossi, B. (1999). A hybrid approach to EMG pattern analysis for classification of arm movements using statistical and fuzzy techniques. Medical Engineering & Physics, 21(5), 303–311. https://doi.org/10.1016/S1350-4533(99)00055-7\n",
    "\n",
    "2. Pattichis, C. S., Schizas, C. N., & Middleton, L. T. (1995). Neural network models in EMG diagnosis. IEEE Transactions on Biomedical Engineering, 42(5), 486–496. https://doi.org/10.1109/10.376153\n",
    "\n",
    "3. Abel, E. W., Zacharia, P. C., Forster, A., & Farrow, T. L. (1996). Neural network analysis of the EMG interference pattern. Medical Engineering & Physics, 18(1), 12–17. https://doi.org/10.1016/1350-4533(95)00032-1\n",
    "\n",
    "4. Tatara, E., & Cinar, A. (2002). Interpreting ECG data by integrating statistical and artificial intelligence tools. IEEE Engineering in Medicine and Biology Magazine, 21(1), 36–41. https://doi.org/10.1109/51.993192\n",
    "\n",
    "5. Silipo, R., & Bortolan, G. (1997). Neural and traditional techniques in diagnostic ECG classification. 1997 IEEE International Conference on Acoustics, Speech, and Signal Processing, 1, 123–126 vol.1. https://doi.org/10.1109/ICASSP.1997.599566\n",
    "\n",
    "6. Biel, L., Pettersson, O., Philipson, L., & Wide, P. (2001). ECG analysis: A new approach in human identification. IEEE Transactions on Instrumentation and Measurement, 50(3), 808–812. https://doi.org/10.1109/19.930458"
   ]
  }
 ],
 "metadata": {
  "anaconda-cloud": {},
  "kernelspec": {
   "display_name": "Python 3",
   "language": "python",
   "name": "python3"
  },
  "language_info": {
   "codemirror_mode": {
    "name": "ipython",
    "version": 3
   },
   "file_extension": ".py",
   "mimetype": "text/x-python",
   "name": "python",
   "nbconvert_exporter": "python",
   "pygments_lexer": "ipython3",
   "version": "3.7.4"
  }
 },
 "nbformat": 4,
 "nbformat_minor": 4
}
