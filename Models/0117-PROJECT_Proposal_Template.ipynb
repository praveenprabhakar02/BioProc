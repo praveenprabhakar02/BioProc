{
 "cells": [
  {
   "cell_type": "markdown",
   "metadata": {},
   "source": [
    "In order to successfully complete this assignment you need to turn in a project proposal to D2L on or before **11:59pm on Friday January 17**."
   ]
  },
  {
   "cell_type": "markdown",
   "metadata": {},
   "source": [
    "# <center>  Project Title </center>\n",
    "\n",
    "<center>By \"Your name\"</center>"
   ]
  },
  {
   "cell_type": "markdown",
   "metadata": {},
   "source": [
    "Replace the following with a picture that \"defines\" your project.  This could be software logo, an expected outcome of your project, or a graphical representation of the research area. \n",
    "\n",
    "<img src=\"http://simpleicon.com/wp-content/uploads/camera.png\" width=\"20%\">\n",
    "<p style=\"text-align: right;\">Image from: URL REFERENCE</p>\n",
    "\n",
    "**NOTE:** This image must not be a local image and instead should be available on the Internet.  Talk to your instructors about ways you could post the image. "
   ]
  },
  {
   "cell_type": "markdown",
   "metadata": {},
   "source": [
    "---\n",
    "# Instructions\n",
    "\n",
    "Please write your proposals either in full markdown files (md) or as Jupyter notebooks (ipynb).  This notebook not only acts as instructions/outline for your proposal but should be used as a template for writing. **_DO NOT leave the instructions in your submitted report_**. Erase all instructions and only leave the basic structure and format. Try to write the proposal to a general audience that may be interested (for example your classmates, your advisor or your lab mates).  \n",
    "\n",
    "Goal of your semester CMSE802 project is to build a library of classes and functions that can be easily adapted and used by you and other members of your lab.  Your final projects will be submitted as git repositories with everything that we did this semester.  This includes all of the following:\n",
    "\n",
    "- **REPORTS** folder with bi-weekly reports relating modeling methods to your research.\n",
    "- **PROJECT_PROPOSAL** a version of this assignment. \n",
    "- **FINAL_REPORT** Ideally the git README.md file\n",
    "- **SOFTWARE** Folder containing your software (Likely named after your software package).\n",
    "- **DOCUMENTATION** Folder containing your documentation (Likely called docs and generated using Sphinx)\n",
    "- **LICENSING** A description of how the software can be used. \n",
    "- **TESTING SOFTWARE** Some level of testing software infrastructure with tests (see description below)\n",
    "- **EXAMPLE SOFTWARE** Example data and tests (Ideally in Jupyter notebooks) that show how to run the code.\n",
    "\n",
    "It is okay if you fully do not understand the details of what is needed for your final project.  We will be going over each step throughout the semester.\n",
    "\n",
    "Most of these deliverables are based on submission requirements for the [Journal of OpenSource Software submission guildlines](https://joss.readthedocs.io/en/latest/submitting.html).  An ideal project would be one that could be submitted to JOSS.  A project accepted for publication JOSS would be an automatic A for the course. **_Note_**: it is  expected that most projects will not at the right stage of of the right type to be submittable to JOSS. However, this is the goal for which your instructor would like everyone to at least think about reaching. \n",
    "\n",
    "If you are having trouble thinking about what your project should be here are some ideas to help:\n",
    "\n",
    "- Proof of concept prototype.\n",
    "- \"Production\" code that generates publishable research data.\n",
    "- Library of methods commonly used by your group. \n",
    "- Data Workflows (data input, data conversion, data output, data exploration. visualizations).\n",
    "- Research Workflows (setting up experiments, wrapping code, scaling on the HPC, processing output).\n",
    "- Scientific Visualization (Generating complex figures or videos of your experiment).\n",
    "- Educational Materials (Introducing and explaining your research using code that can be used by students and new members of your lab). \n",
    "\n",
    "Here is an example projects you can download from previous semesters. Note these may have had slightly expectation and assignmens goals relative to your project but are representative of the types of projects that would be acceptable for this course (shared with permission by the students):\n",
    "\n",
    "- [Neutrino Winds - By Brian Nevins](https://github.com/bnevs88/neutrino-winds)\n",
    "- [Enhanced sampling Methods - By Nicole Roussey](https://gitlab.msu.edu/roussey1/nmr_fs19_cmse802.git)\n",
    "- [Visualization of the Transport of Small Molecules on Peptides - By Xie Yan](https://gitlab.msu.edu/xieyan/yanxiecmse802.git)\n",
    "\n",
    "Even more projects (may require logging into MSU GitLab to access:\n",
    "- [Lattice QCD Data Analysis - By Matthew Zeilbeck](https://gitlab.msu.edu/zeilbec1/zeilbec1_cmse802)\n",
    "- [A Tool for Applying Postseismic Corrections to Geodetic Data - By Connor Drooff](https://gitlab.msu.edu/drooffco/cmse-802-drooff.git)\n",
    "\n",
    "\n",
    "Schedule a meeting with your instructors if you are having a hard time coming up with something. "
   ]
  },
  {
   "cell_type": "markdown",
   "metadata": {},
   "source": [
    "---\n",
    "# Overview\n",
    "\n",
    "Provide a couple of paragraphs about the research domain you are going to cover in your project. Explain as if to someone outside your area of expertise. Explain how researchers use computation in this domain. Please use references when appropriate. "
   ]
  },
  {
   "cell_type": "markdown",
   "metadata": {},
   "source": [
    "---\n",
    "# Program Description\n",
    "\n",
    "Provide a more detailed paragraph about the Python program you will be modifying or developing as part of your project.  What components already exists and what components do you hope to add and/or improve as part of your research.\n"
   ]
  },
  {
   "cell_type": "markdown",
   "metadata": {},
   "source": [
    "---\n",
    "# Project Goals and Timeline\n",
    "\n",
    "Explain in more detail the parts of the code you are going to get working for your research.  Lay out some short term, mid-term and long term goals. As best you can, try to scope the project such that you can complete the short term and mid-term goals and if time/luck permits maybe a few of the long term goals.\n",
    "\n",
    "Note: it is expected that these goals will adjust change as things move forward.\n",
    "\n",
    "As a reminder, here are a set of dates (Approx. every other Friday) that include deliverables related to your projects. These sub-projects are designed to introduce you to useful software development tools\n",
    "\n",
    "\n",
    "\n",
    "- 1/17/2020 - Proposal Due\n",
    "- 1/31/2020 - Project git repository and structure due\n",
    "- 2/14/2020 - Stub functions and Example code integration (With documentation)\n",
    "- 2/28/2020 - Coding standers and Unit Test integrated into project\n",
    "- 3/1/2020 - Spring break week\n",
    "- 3/20/2020 - Code Draft (Code Review 1) \n",
    "- 4/3/2020 - Code Draft (Code Review 2) \n",
    "- 4/20/2020 - Final Project and Presentation Due\n",
    "\n",
    "\n"
   ]
  },
  {
   "cell_type": "markdown",
   "metadata": {},
   "source": [
    "---\n",
    "# Anticipating Challenges  \n",
    "\n",
    "List any key pieces of information/skills do you need to learn and/or mater to successfully complete all of your project goals. \n",
    "\n",
    "Also list challenges that you are worried about or that may come up in the course of completing your project.  Include changes you will make to your plan if these challenges do arise. \n",
    "\n",
    "It is expected that everyone's projects will be written in Python.  We can discuss ways to incorporate non-python projects into python. Please indicate how your individual project may deviate from any of the above expectations."
   ]
  },
  {
   "cell_type": "markdown",
   "metadata": {},
   "source": [
    "----\n",
    "\n",
    "# Proposal Grading Rubric\n",
    "The following basic grading rubric was used last semester.  It may change slightly but should give an idea of what is considered important. \n",
    "\n",
    "    Grading Overall\n",
    "    10 points - Project title\n",
    "    10 points - Descriptive picture\n",
    "    20 points - Overview\n",
    "    20 points - Program Description\n",
    "    20 points - Project Goals / Timeline\n",
    "    20 points - Anticipating Challenges\n",
    "\n",
    "    Grading Rubric\n",
    "    -5 Leaving in instructions in report.\n",
    "    -5 Sloppy formatting"
   ]
  },
  {
   "cell_type": "markdown",
   "metadata": {},
   "source": [
    "-----\n",
    "### Congratulations, you are done!\n",
    "\n",
    "Now, you just need to submit this report by uploading it to the course <a href=\"https://d2l.msu.edu/\">Desire2Learn</a> web page for today's dropbox."
   ]
  }
 ],
 "metadata": {
  "anaconda-cloud": {},
  "kernelspec": {
   "display_name": "Python 3",
   "language": "python",
   "name": "python3"
  },
  "language_info": {
   "codemirror_mode": {
    "name": "ipython",
    "version": 3
   },
   "file_extension": ".py",
   "mimetype": "text/x-python",
   "name": "python",
   "nbconvert_exporter": "python",
   "pygments_lexer": "ipython3",
   "version": "3.7.3"
  }
 },
 "nbformat": 4,
 "nbformat_minor": 1
}
