{
 "cells": [
  {
   "cell_type": "markdown",
   "metadata": {},
   "source": [
    "# <center>  Using Machine Learning for Optimal Feedback Control  </center>\n",
    "\n",
    "<center>By \"Praveen Prabhakar KR\"</center>"
   ]
  },
  {
   "cell_type": "markdown",
   "metadata": {},
   "source": [
    "<img src=\"https://bmjopen.bmj.com/content/bmjopen/9/12/e032935/F2.large.jpg\" width=\"50%\">\n",
    "<p style=\"text-align: right;\">Image from: https://bmjopen.bmj.com/content/9/12/e032935</p>"
   ]
  },
  {
   "cell_type": "markdown",
   "metadata": {},
   "source": [
    "---\n",
    "# Overview\n",
    "\n",
    "It has always puzzled humans how our brain is able to coordinate motions of numerous joints at the same time. How the brain makes these decisions and decides on activating muscles will help us understand more about the decision making process and also bring about better rehab and prosthetics with better human machine interfaces. One of the most famous theories proposed for motor coordination is 'Optimal Feedback Control'. \n",
    "\n",
    "Ref: Optimal feedback control as a theory of motor coordination (https://www.nature.com/articles/nn963)\n",
    "\n",
    "My project aims to utilize the data we have and use machine learning to see if there they obey Optimal Feedback Control and also see if any new links or insights can be found."
   ]
  },
  {
   "cell_type": "markdown",
   "metadata": {},
   "source": [
    "---\n",
    "# Program Description\n",
    "\n",
    "We use a KINARM End-point lab robot in order to study motor and cognitive function. The robot consists of two handles (as shown in the picture above) with a display. Different mechanical environments can be created along with the ability to manipulate visual feedback. Force and torque sensors pick up high frequency data from the bimanual movement of the participant. \n",
    "\n",
    "In my lab, we usually create a game where participants have to move a ball to a target by moving their hands. Different mechanical environments are created in order to assess the role of feedback in their game performance. The trajectory of the movement, the force applied are all measured. Optimal feedback control proposes that we choose optimal solutions based on the previous point of our movement in order to make the next movement. I plan on using the data and run it using machine learning and test the validity of optimal feedback control and also if any new insights can be found.\n"
   ]
  },
  {
   "cell_type": "markdown",
   "metadata": {},
   "source": [
    "---\n",
    "# Project Goals and Timeline\n",
    "\n",
    "Short term goal is for me to understand the huge data that comes as an output from the KINARM and decide on the data that can be used. Long term goal is to use a machine learning model on the data and check if it obeys optimal feedback control.\n",
    "\n",
    "I am still not sure about what machine learning model will fit the data exactly. To figure out which will exactly meet my needs is my mid-term goal. "
   ]
  },
  {
   "cell_type": "markdown",
   "metadata": {},
   "source": [
    "---\n",
    "# Anticipating Challenges  \n",
    "\n",
    "As listed above, the challenges I think I will face are:\n",
    "\n",
    "1. Understanding the data and what is needed\n",
    "2. Deciding and implementing the machine learning model."
   ]
  }
 ],
 "metadata": {
  "anaconda-cloud": {},
  "kernelspec": {
   "display_name": "Python 3",
   "language": "python",
   "name": "python3"
  },
  "language_info": {
   "codemirror_mode": {
    "name": "ipython",
    "version": 3
   },
   "file_extension": ".py",
   "mimetype": "text/x-python",
   "name": "python",
   "nbconvert_exporter": "python",
   "pygments_lexer": "ipython3",
   "version": "3.7.4"
  }
 },
 "nbformat": 4,
 "nbformat_minor": 4
}
